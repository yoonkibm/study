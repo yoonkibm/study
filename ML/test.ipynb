{
 "cells": [
  {
   "cell_type": "code",
   "execution_count": 1,
   "metadata": {},
   "outputs": [],
   "source": [
    "import MachineLearning as ml\n",
    "from sklearn.datasets import make_regression\n",
    "import matplotlib.pyplot as plt"
   ]
  },
  {
   "cell_type": "code",
   "execution_count": 2,
   "metadata": {},
   "outputs": [],
   "source": [
    "from sklearn.datasets import load_iris, load_wine, load_breast_cancer, load_digits\n",
    "from sklearn.linear_model import LogisticRegression\n",
    "from sklearn.model_selection import train_test_split\n",
    "\n",
    "# 1) 데이터셋 불러오기\n",
    "X, y = load_iris(return_X_y=True)\n",
    "# X, y = load_wine(return_X_y=True)\n",
    "# X, y = load_breast_cancer(return_X_y=True)\n",
    "# X, y = load_digits(return_X_y=True)\n",
    "\n",
    "# 2) 학습/테스트 분할 (예: 80% 학습, 20% 테스트)\n",
    "X_train, X_test, y_train, y_test = train_test_split(\n",
    "    X, y, test_size=0.2, random_state=42\n",
    ")"
   ]
  },
  {
   "cell_type": "code",
   "execution_count": 4,
   "metadata": {},
   "outputs": [],
   "source": [
    "labels = ml.one_hot_encoding(y_train)"
   ]
  },
  {
   "cell_type": "code",
   "execution_count": 5,
   "metadata": {},
   "outputs": [],
   "source": [
    "model = ml.LogisticRegression()"
   ]
  },
  {
   "cell_type": "code",
   "execution_count": 6,
   "metadata": {},
   "outputs": [
    {
     "name": "stdout",
     "output_type": "stream",
     "text": [
      "epoch: 0/1000\tCross entropy:1.0986122856681102\n",
      "epoch: 10/1000\tCross entropy:1.0216716527710747\n",
      "epoch: 20/1000\tCross entropy:0.9661755177677326\n",
      "epoch: 30/1000\tCross entropy:0.9178284207249663\n",
      "epoch: 40/1000\tCross entropy:0.8755638408606035\n",
      "epoch: 50/1000\tCross entropy:0.8385462479176977\n",
      "epoch: 60/1000\tCross entropy:0.8060208539488133\n",
      "epoch: 70/1000\tCross entropy:0.7773253432641201\n",
      "epoch: 80/1000\tCross entropy:0.751890562532954\n",
      "epoch: 90/1000\tCross entropy:0.7292337951693394\n",
      "epoch: 100/1000\tCross entropy:0.7089487862193723\n",
      "epoch: 110/1000\tCross entropy:0.6906949719914335\n",
      "epoch: 120/1000\tCross entropy:0.6741872151961347\n",
      "epoch: 130/1000\tCross entropy:0.6591866353075422\n",
      "epoch: 140/1000\tCross entropy:0.645492718722785\n",
      "epoch: 150/1000\tCross entropy:0.6329366823943713\n",
      "epoch: 160/1000\tCross entropy:0.6213759682845532\n",
      "epoch: 170/1000\tCross entropy:0.6106897128772533\n",
      "epoch: 180/1000\tCross entropy:0.6007750352125678\n",
      "epoch: 190/1000\tCross entropy:0.5915440009343917\n",
      "epoch: 200/1000\tCross entropy:0.5829211392030811\n",
      "epoch: 210/1000\tCross entropy:0.574841409238156\n",
      "epoch: 220/1000\tCross entropy:0.5672485315304219\n",
      "epoch: 230/1000\tCross entropy:0.5600936145857446\n",
      "epoch: 240/1000\tCross entropy:0.5533340213128269\n",
      "epoch: 250/1000\tCross entropy:0.546932430040341\n",
      "epoch: 260/1000\tCross entropy:0.5408560539601693\n",
      "epoch: 270/1000\tCross entropy:0.5350759898801041\n",
      "epoch: 280/1000\tCross entropy:0.5295666728440567\n",
      "epoch: 290/1000\tCross entropy:0.5243054177124118\n",
      "epoch: 300/1000\tCross entropy:0.5192720324167418\n",
      "epoch: 310/1000\tCross entropy:0.51444849049725\n",
      "epoch: 320/1000\tCross entropy:0.5098186528473788\n",
      "epoch: 330/1000\tCross entropy:0.5053680304471814\n",
      "epoch: 340/1000\tCross entropy:0.5010835813598205\n",
      "epoch: 350/1000\tCross entropy:0.4969535364687116\n",
      "epoch: 360/1000\tCross entropy:0.4929672494053783\n",
      "epoch: 370/1000\tCross entropy:0.48911506690667456\n",
      "epoch: 380/1000\tCross entropy:0.48538821648146424\n",
      "epoch: 390/1000\tCross entropy:0.4817787087902783\n",
      "epoch: 400/1000\tCross entropy:0.47827925256998977\n",
      "epoch: 410/1000\tCross entropy:0.4748831802875066\n",
      "epoch: 420/1000\tCross entropy:0.47158438299649297\n",
      "epoch: 430/1000\tCross entropy:0.46837725311085593\n",
      "epoch: 440/1000\tCross entropy:0.46525663400752537\n",
      "epoch: 450/1000\tCross entropy:0.4622177755364069\n",
      "epoch: 460/1000\tCross entropy:0.4592562946533533\n",
      "epoch: 470/1000\tCross entropy:0.4563681405074406\n",
      "epoch: 480/1000\tCross entropy:0.4535495634107421\n",
      "epoch: 490/1000\tCross entropy:0.4507970872003381\n",
      "epoch: 500/1000\tCross entropy:0.448107484571141\n",
      "epoch: 510/1000\tCross entropy:0.44547775501637044\n",
      "epoch: 520/1000\tCross entropy:0.4429051050619522\n",
      "epoch: 530/1000\tCross entropy:0.4403869305231768\n",
      "epoch: 540/1000\tCross entropy:0.4379208005478276\n",
      "epoch: 550/1000\tCross entropy:0.4355044432406702\n",
      "epoch: 560/1000\tCross entropy:0.433135732690485\n",
      "epoch: 570/1000\tCross entropy:0.4308126772434168\n",
      "epoch: 580/1000\tCross entropy:0.42853340888587005\n",
      "epoch: 590/1000\tCross entropy:0.42629617361696215\n",
      "epoch: 600/1000\tCross entropy:0.42409932270507206\n",
      "epoch: 610/1000\tCross entropy:0.4219413047356045\n",
      "epoch: 620/1000\tCross entropy:0.41982065836802107\n",
      "epoch: 630/1000\tCross entropy:0.41773600572970165\n",
      "epoch: 640/1000\tCross entropy:0.4156860463824963\n",
      "epoch: 650/1000\tCross entropy:0.4136695518050736\n",
      "epoch: 660/1000\tCross entropy:0.4116853603405138\n",
      "epoch: 670/1000\tCross entropy:0.40973237256415934\n",
      "epoch: 680/1000\tCross entropy:0.40780954703162114\n",
      "epoch: 690/1000\tCross entropy:0.4059158963711358\n",
      "epoch: 700/1000\tCross entropy:0.4040504836882646\n",
      "epoch: 710/1000\tCross entropy:0.40221241925426454\n",
      "epoch: 720/1000\tCross entropy:0.40040085745242815\n",
      "epoch: 730/1000\tCross entropy:0.398614993959303\n",
      "epoch: 740/1000\tCross entropy:0.3968540631400328\n",
      "epoch: 750/1000\tCross entropy:0.3951173356391236\n",
      "epoch: 760/1000\tCross entropy:0.3934041161497805\n",
      "epoch: 770/1000\tCross entropy:0.3917137413465936\n",
      "epoch: 780/1000\tCross entropy:0.3900455779678183\n",
      "epoch: 790/1000\tCross entropy:0.38839902103479573\n",
      "epoch: 800/1000\tCross entropy:0.386773492197232\n",
      "epoch: 810/1000\tCross entropy:0.3851684381940982\n",
      "epoch: 820/1000\tCross entropy:0.38358332942085316\n",
      "epoch: 830/1000\tCross entropy:0.3820176585945357\n",
      "epoch: 840/1000\tCross entropy:0.38047093950902766\n",
      "epoch: 850/1000\tCross entropy:0.3789427058734772\n",
      "epoch: 860/1000\tCross entropy:0.37743251022748103\n",
      "epoch: 870/1000\tCross entropy:0.3759399229271854\n",
      "epoch: 880/1000\tCross entropy:0.37446453119696516\n",
      "epoch: 890/1000\tCross entropy:0.37300593824179135\n",
      "epoch: 900/1000\tCross entropy:0.37156376241581573\n",
      "epoch: 910/1000\tCross entropy:0.37013763644306485\n",
      "epoch: 920/1000\tCross entropy:0.3687272066864823\n",
      "epoch: 930/1000\tCross entropy:0.3673321324618582\n",
      "epoch: 940/1000\tCross entropy:0.36595208539346896\n",
      "epoch: 950/1000\tCross entropy:0.3645867488085022\n",
      "epoch: 960/1000\tCross entropy:0.3632358171675733\n",
      "epoch: 970/1000\tCross entropy:0.3618989955288523\n",
      "epoch: 980/1000\tCross entropy:0.360575999043511\n",
      "epoch: 990/1000\tCross entropy:0.35926655248037836\n"
     ]
    }
   ],
   "source": [
    "model.fit(X_train, labels, max_iter=1000)"
   ]
  },
  {
   "cell_type": "code",
   "execution_count": 8,
   "metadata": {},
   "outputs": [
    {
     "name": "stdout",
     "output_type": "stream",
     "text": [
      "[1] 1\n"
     ]
    }
   ],
   "source": [
    "y_hat = model.predict(X_train[2])\n",
    "\n",
    "print(y_hat, y_train[2])"
   ]
  },
  {
   "cell_type": "code",
   "execution_count": 6,
   "metadata": {},
   "outputs": [],
   "source": [
    "labels_test = ml.one_hot_encoding(y_test)"
   ]
  },
  {
   "cell_type": "code",
   "execution_count": 7,
   "metadata": {},
   "outputs": [
    {
     "data": {
      "text/plain": [
       "array([1, 0, 2, 1, 1, 0, 1, 2, 1, 1, 2, 0, 0, 0, 0, 1, 2, 1, 1, 2, 0, 2,\n",
       "       0, 2, 2, 2, 2, 2, 0, 0], dtype=int64)"
      ]
     },
     "execution_count": 7,
     "metadata": {},
     "output_type": "execute_result"
    }
   ],
   "source": [
    "test_predict = model.predict(X_test)\n",
    "test_predict"
   ]
  },
  {
   "cell_type": "code",
   "execution_count": 8,
   "metadata": {},
   "outputs": [
    {
     "name": "stdout",
     "output_type": "stream",
     "text": [
      "Accuracy: 100.00\n"
     ]
    }
   ],
   "source": [
    "ml.accuracy(y_test, test_predict)"
   ]
  }
 ],
 "metadata": {
  "kernelspec": {
   "display_name": "study",
   "language": "python",
   "name": "python3"
  },
  "language_info": {
   "codemirror_mode": {
    "name": "ipython",
    "version": 3
   },
   "file_extension": ".py",
   "mimetype": "text/x-python",
   "name": "python",
   "nbconvert_exporter": "python",
   "pygments_lexer": "ipython3",
   "version": "3.10.15"
  }
 },
 "nbformat": 4,
 "nbformat_minor": 2
}
